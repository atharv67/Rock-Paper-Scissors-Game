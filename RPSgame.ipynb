{
 "cells": [
  {
   "cell_type": "code",
   "execution_count": 1,
   "metadata": {},
   "outputs": [],
   "source": [
    "import tensorflow as tf"
   ]
  },
  {
   "cell_type": "code",
   "execution_count": 2,
   "metadata": {},
   "outputs": [],
   "source": [
    "import matplotlib.pyplot as plt"
   ]
  },
  {
   "cell_type": "code",
   "execution_count": 3,
   "metadata": {},
   "outputs": [],
   "source": [
    "from tensorflow.keras.models import load_model"
   ]
  },
  {
   "cell_type": "code",
   "execution_count": 4,
   "metadata": {},
   "outputs": [],
   "source": [
    "import numpy as np"
   ]
  },
  {
   "cell_type": "code",
   "execution_count": 8,
   "metadata": {},
   "outputs": [],
   "source": [
    "dir=os.path.join('C:\\Atharv\\RPS Game','testmodel')\n",
    "loaded_model = load_model(dir)"
   ]
  },
  {
   "cell_type": "code",
   "execution_count": 8,
   "metadata": {},
   "outputs": [],
   "source": [
    "# dir2=os.path.join('C:\\Atharv\\RPS Game','Testmodel')\n",
    "# loaded_model = load_model(dir2)"
   ]
  },
  {
   "cell_type": "code",
   "execution_count": 16,
   "metadata": {},
   "outputs": [],
   "source": [
    "# def find_class(img):\n",
    "#     checkimg=cv2.resize(img,(128,128),interpolation=cv2.INTER_AREA)\n",
    "#     print(checkimg.shape)\n",
    "#     x=[]\n",
    "# #     checkimg=np.asarray(checkimg)\n",
    "#     print(checkimg.shape)\n",
    "#     checkimg=checkimg/255\n",
    "#     x.append(checkimg)\n",
    "#     x=np.asarray(x)\n",
    "# #     dir=os.path.join('C:\\Atharv\\RPS Game','finalmodel')\n",
    "# #     loaded_model = load_model(dir)\n",
    "#     prediction=loaded_model.predict_classes(x,True,None)\n",
    "#     print(loaded_model.predict(x))\n",
    "#     print(prediction)\n",
    "#     print(time.localtime(time.time()))\n",
    "#     if prediction[0]==0:\n",
    "#         return \"Rock\"\n",
    "#     if prediction[0]==1:\n",
    "#         return \"Paper\"\n",
    "#     if prediction[0]==2:\n",
    "#         return \"Scissor\""
   ]
  },
  {
   "cell_type": "code",
   "execution_count": 9,
   "metadata": {},
   "outputs": [],
   "source": [
    "def find_class2(img):\n",
    "    # img=cv2.cvtColor(img, cv2.COLOR_BGR2GRAY)\n",
    "    # img=cv2.imread(os.path.join(rockdir,rock_images[i]))\n",
    "#     plt.imshow(test_img)\n",
    "    kernel=np.ones((4,4))\n",
    "    img=cv2.GaussianBlur(img,(3,3),9)\n",
    "    img=cv2.Canny(img,170,170)\n",
    "    img=cv2.dilate(img,kernel,iterations=4)\n",
    "    img=cv2.erode(img,kernel,iterations=1)\n",
    "    checkimg=cv2.resize(img,(128,128))\n",
    "    plt.imshow(checkimg)\n",
    "    print(checkimg.shape)\n",
    "    x=[]\n",
    "#     checkimg=np.asarray(checkimg)\n",
    "    print(checkimg.shape)\n",
    "    checkimg=checkimg/255\n",
    "    checkimg= np.repeat(checkimg[..., np.newaxis], 3, -1)\n",
    "    x.append(checkimg)\n",
    "    x=np.asarray(x)\n",
    "#     dir=os.path.join('C:\\Atharv\\RPS Game','finalmodel')\n",
    "#     loaded_model = load_model(dir)\n",
    "    prediction=loaded_model.predict_classes(x,True,None)\n",
    "#     print(loaded_model.predict(x))\n",
    "    print(prediction)\n",
    "    print(time.localtime(time.time()))\n",
    "    if prediction[0]==0:\n",
    "        return \"Rock\"\n",
    "    if prediction[0]==1:\n",
    "        return \"Paper\"\n",
    "    if prediction[0]==2:\n",
    "        return \"Scissor\""
   ]
  },
  {
   "cell_type": "code",
   "execution_count": 5,
   "metadata": {},
   "outputs": [],
   "source": [
    "import os"
   ]
  },
  {
   "cell_type": "code",
   "execution_count": 6,
   "metadata": {},
   "outputs": [],
   "source": [
    "import time"
   ]
  },
  {
   "cell_type": "code",
   "execution_count": 7,
   "metadata": {},
   "outputs": [],
   "source": [
    "def get_time(start_time):\n",
    "    now_time=time.time()\n",
    "    find_diff=int(now_time)-int(start_time)\n",
    "    if find_diff%10==5:\n",
    "        return '5'\n",
    "    elif find_diff%10==6:\n",
    "        return '4'\n",
    "    elif find_diff%10==7:\n",
    "        return '3'\n",
    "    elif find_diff%10==8:\n",
    "        return '2'\n",
    "    elif find_diff%10==9:\n",
    "        return '1'\n",
    "    else:\n",
    "        return ''"
   ]
  },
  {
   "cell_type": "code",
   "execution_count": 9,
   "metadata": {
    "scrolled": false
   },
   "outputs": [
    {
     "name": "stdout",
     "output_type": "stream",
     "text": [
      "Requirement already satisfied: opencv-python in c:\\users\\admin\\new folder\\lib\\site-packages (4.2.0.34)\n",
      "Requirement already satisfied: numpy>=1.11.3 in c:\\users\\admin\\new folder\\lib\\site-packages (from opencv-python) (1.18.1)\n"
     ]
    },
    {
     "name": "stderr",
     "output_type": "stream",
     "text": [
      "WARNING: You are using pip version 20.0.1; however, version 20.1.1 is available.\n",
      "You should consider upgrading via the 'c:\\users\\admin\\new folder\\python.exe -m pip install --upgrade pip' command.\n"
     ]
    }
   ],
   "source": [
    "!pip install opencv-python\n"
   ]
  },
  {
   "cell_type": "code",
   "execution_count": 10,
   "metadata": {},
   "outputs": [],
   "source": [
    "import cv2\n",
    "import numpy as np\n",
    "import random as rand"
   ]
  },
  {
   "cell_type": "code",
   "execution_count": 29,
   "metadata": {
    "scrolled": true
   },
   "outputs": [
    {
     "name": "stdout",
     "output_type": "stream",
     "text": [
      "ok\n",
      "time.struct_time(tm_year=2020, tm_mon=6, tm_mday=22, tm_hour=2, tm_min=56, tm_sec=40, tm_wday=0, tm_yday=174, tm_isdst=0)\n",
      "(128, 128)\n",
      "(128, 128)\n",
      "[2]\n",
      "time.struct_time(tm_year=2020, tm_mon=6, tm_mday=22, tm_hour=2, tm_min=56, tm_sec=40, tm_wday=0, tm_yday=174, tm_isdst=0)\n",
      "ok\n",
      "time.struct_time(tm_year=2020, tm_mon=6, tm_mday=22, tm_hour=2, tm_min=56, tm_sec=50, tm_wday=0, tm_yday=174, tm_isdst=0)\n",
      "(128, 128)\n",
      "(128, 128)\n",
      "[1]\n",
      "time.struct_time(tm_year=2020, tm_mon=6, tm_mday=22, tm_hour=2, tm_min=56, tm_sec=50, tm_wday=0, tm_yday=174, tm_isdst=0)\n",
      "ok\n",
      "time.struct_time(tm_year=2020, tm_mon=6, tm_mday=22, tm_hour=2, tm_min=57, tm_sec=0, tm_wday=0, tm_yday=174, tm_isdst=0)\n",
      "(128, 128)\n",
      "(128, 128)\n",
      "[2]\n",
      "time.struct_time(tm_year=2020, tm_mon=6, tm_mday=22, tm_hour=2, tm_min=57, tm_sec=0, tm_wday=0, tm_yday=174, tm_isdst=0)\n",
      "ok\n",
      "time.struct_time(tm_year=2020, tm_mon=6, tm_mday=22, tm_hour=2, tm_min=57, tm_sec=10, tm_wday=0, tm_yday=174, tm_isdst=0)\n",
      "(128, 128)\n",
      "(128, 128)\n",
      "[2]\n",
      "time.struct_time(tm_year=2020, tm_mon=6, tm_mday=22, tm_hour=2, tm_min=57, tm_sec=10, tm_wday=0, tm_yday=174, tm_isdst=0)\n",
      "ok\n",
      "time.struct_time(tm_year=2020, tm_mon=6, tm_mday=22, tm_hour=2, tm_min=57, tm_sec=20, tm_wday=0, tm_yday=174, tm_isdst=0)\n",
      "(128, 128)\n",
      "(128, 128)\n",
      "[0]\n",
      "time.struct_time(tm_year=2020, tm_mon=6, tm_mday=22, tm_hour=2, tm_min=57, tm_sec=20, tm_wday=0, tm_yday=174, tm_isdst=0)\n",
      "ok\n",
      "time.struct_time(tm_year=2020, tm_mon=6, tm_mday=22, tm_hour=2, tm_min=57, tm_sec=30, tm_wday=0, tm_yday=174, tm_isdst=0)\n",
      "(128, 128)\n",
      "(128, 128)\n",
      "[2]\n",
      "time.struct_time(tm_year=2020, tm_mon=6, tm_mday=22, tm_hour=2, tm_min=57, tm_sec=30, tm_wday=0, tm_yday=174, tm_isdst=0)\n",
      "ok\n",
      "time.struct_time(tm_year=2020, tm_mon=6, tm_mday=22, tm_hour=2, tm_min=57, tm_sec=40, tm_wday=0, tm_yday=174, tm_isdst=0)\n",
      "(128, 128)\n",
      "(128, 128)\n",
      "[2]\n",
      "time.struct_time(tm_year=2020, tm_mon=6, tm_mday=22, tm_hour=2, tm_min=57, tm_sec=40, tm_wday=0, tm_yday=174, tm_isdst=0)\n",
      "ok\n",
      "time.struct_time(tm_year=2020, tm_mon=6, tm_mday=22, tm_hour=2, tm_min=57, tm_sec=50, tm_wday=0, tm_yday=174, tm_isdst=0)\n",
      "(128, 128)\n",
      "(128, 128)\n",
      "[0]\n",
      "time.struct_time(tm_year=2020, tm_mon=6, tm_mday=22, tm_hour=2, tm_min=57, tm_sec=50, tm_wday=0, tm_yday=174, tm_isdst=0)\n",
      "ok\n",
      "time.struct_time(tm_year=2020, tm_mon=6, tm_mday=22, tm_hour=2, tm_min=58, tm_sec=0, tm_wday=0, tm_yday=174, tm_isdst=0)\n",
      "(128, 128)\n",
      "(128, 128)\n",
      "[2]\n",
      "time.struct_time(tm_year=2020, tm_mon=6, tm_mday=22, tm_hour=2, tm_min=58, tm_sec=0, tm_wday=0, tm_yday=174, tm_isdst=0)\n",
      "ok\n",
      "time.struct_time(tm_year=2020, tm_mon=6, tm_mday=22, tm_hour=2, tm_min=58, tm_sec=10, tm_wday=0, tm_yday=174, tm_isdst=0)\n",
      "(128, 128)\n",
      "(128, 128)\n",
      "[1]\n",
      "time.struct_time(tm_year=2020, tm_mon=6, tm_mday=22, tm_hour=2, tm_min=58, tm_sec=10, tm_wday=0, tm_yday=174, tm_isdst=0)\n",
      "ok\n",
      "time.struct_time(tm_year=2020, tm_mon=6, tm_mday=22, tm_hour=2, tm_min=58, tm_sec=20, tm_wday=0, tm_yday=174, tm_isdst=0)\n",
      "(128, 128)\n",
      "(128, 128)\n",
      "[0]\n",
      "time.struct_time(tm_year=2020, tm_mon=6, tm_mday=22, tm_hour=2, tm_min=58, tm_sec=20, tm_wday=0, tm_yday=174, tm_isdst=0)\n",
      "ok\n",
      "time.struct_time(tm_year=2020, tm_mon=6, tm_mday=22, tm_hour=2, tm_min=58, tm_sec=30, tm_wday=0, tm_yday=174, tm_isdst=0)\n",
      "(128, 128)\n",
      "(128, 128)\n",
      "[1]\n",
      "time.struct_time(tm_year=2020, tm_mon=6, tm_mday=22, tm_hour=2, tm_min=58, tm_sec=30, tm_wday=0, tm_yday=174, tm_isdst=0)\n",
      "ok\n",
      "time.struct_time(tm_year=2020, tm_mon=6, tm_mday=22, tm_hour=2, tm_min=58, tm_sec=40, tm_wday=0, tm_yday=174, tm_isdst=0)\n",
      "(128, 128)\n",
      "(128, 128)\n",
      "[0]\n",
      "time.struct_time(tm_year=2020, tm_mon=6, tm_mday=22, tm_hour=2, tm_min=58, tm_sec=40, tm_wday=0, tm_yday=174, tm_isdst=0)\n",
      "ok\n",
      "time.struct_time(tm_year=2020, tm_mon=6, tm_mday=22, tm_hour=2, tm_min=58, tm_sec=50, tm_wday=0, tm_yday=174, tm_isdst=0)\n",
      "(128, 128)\n",
      "(128, 128)\n",
      "[0]\n",
      "time.struct_time(tm_year=2020, tm_mon=6, tm_mday=22, tm_hour=2, tm_min=58, tm_sec=50, tm_wday=0, tm_yday=174, tm_isdst=0)\n"
     ]
    },
    {
     "data": {
      "image/png": "[encoded data removed]",
      "text/plain": [
       "<Figure size 432x288 with 1 Axes>"
      ]
     },
     "metadata": {},
     "output_type": "display_data"
    }
   ],
   "source": [
    "import cv2\n",
    "import numpy as np\n",
    "import time\n",
    "score=np.zeros((480,640,3))\n",
    "cap=cv2.VideoCapture(0)\n",
    "cap.set(3,640)\n",
    "cap.set(4,480)\n",
    "i=0\n",
    "seconds = 10\n",
    "fps = cap.get(5) # Gets the frames per second\n",
    "multiplier = fps * seconds\n",
    "# print(multiplier)\n",
    "starttime=int(time.time())\n",
    "# print(starttime)\n",
    "prediction=''\n",
    "player_score=0\n",
    "computer_score=0\n",
    "computer_move=''\n",
    "while True:\n",
    "    # print(frameId)\n",
    "    x=320\n",
    "    y=100\n",
    "    l=300\n",
    "    h=200\n",
    "    success,img=cap.read()\n",
    "    score=np.zeros((480,640,3))\n",
    "    np_s = np.vstack((img, score))\n",
    "    cv2.rectangle(img, (x,y), (x+l,y+h), (255,0,0),2)\n",
    "    time_rem=get_time(starttime)\n",
    "    cv2.putText(img, 'Play your move in the box in:'+time_rem, (30, 30), fontFace=cv2.FONT_HERSHEY_SIMPLEX, fontScale=1,\n",
    "                color=(255, 0, 0), thickness=2)\n",
    "    \n",
    "    #print(time.time())\n",
    "    if (int(time.time())-int(starttime))%10==0 and (int(time.time())-int(starttime))!=0  and i==0:\n",
    "#         score=np.zeros((480,640,3))\n",
    "        i=1\n",
    "        print('ok')\n",
    "        print(time.localtime(time.time()))\n",
    "        cv2.putText(score, 'Your Score:'+\" Computer Score:\", (10, 20), fontFace=cv2.FONT_HERSHEY_SIMPLEX, fontScale=0.7,\n",
    "                color=(255, 0, 0), thickness=2)\n",
    "        cv2.putText(score, 'Your Last Move: '+\" Computer Last Move: \", (10, 50), fontFace=cv2.FONT_HERSHEY_SIMPLEX, fontScale=0.7,\n",
    "                color=(255, 0, 0), thickness=2)\n",
    "        crop_img = img[y:y + h, x:x + l]\n",
    "        computer_move=get_move()\n",
    "        prediction=find_class2(crop_img)\n",
    "        winner=who_won(computer_move,prediction)\n",
    "        if winner==1:\n",
    "            player_score+=1\n",
    "        elif winner==2:\n",
    "            computer_score+=1\n",
    "        else:\n",
    "            pass\n",
    "        cv2.imshow(\"Cropped\",crop_img)\n",
    "    if (int(time.time()) - int(starttime)) % 10 != 0:\n",
    "        i=0\n",
    "    cv2.putText(img, prediction, (330, 100), fontFace=cv2.FONT_HERSHEY_SIMPLEX, fontScale=1,\n",
    "                color=(255, 0, 0), thickness=2)\n",
    "    cv2.putText(score, 'Your Score:'+str(player_score)+\" Computer Score:\"+str(computer_score), (10, 20), fontFace=cv2.FONT_HERSHEY_SIMPLEX, fontScale=0.7,\n",
    "                color=(255, 0, 0), thickness=2)\n",
    "    cv2.putText(score, 'Your Last Move: '+prediction+\" Computer Last Move: \"+computer_move, (10, 50), fontFace=cv2.FONT_HERSHEY_SIMPLEX, fontScale=0.7,\n",
    "                color=(255, 0, 0), thickness=2)\n",
    "    cv2.imshow(\"Score\",score)\n",
    "    cv2.imshow(\"Video\", img)\n",
    "    if player_score==5 or computer_score==5:\n",
    "        cv2. destroyWindow('Score')\n",
    "        cv2. destroyWindow('Video')\n",
    "        result=np.zeros((480,640,3))\n",
    "        if player_score==5:\n",
    "            cv2.putText(result,'You Won', (100, 100), fontFace=cv2.FONT_HERSHEY_SIMPLEX, fontScale=0.7,\n",
    "                color=(255, 0, 0), thickness=2)\n",
    "        else:\n",
    "            cv2.putText(result,'You Lost', (100, 100), fontFace=cv2.FONT_HERSHEY_SIMPLEX, fontScale=0.7,\n",
    "                color=(255, 0, 0), thickness=2)\n",
    "        cv2.imshow('result',result)\n",
    "#     cv2.imshow(\"Main\",np_s)\n",
    "    if cv2.waitKey(1) & 0xFF==ord('q'):\n",
    "        break\n",
    "    # i+=1\n"
   ]
  },
  {
   "cell_type": "code",
   "execution_count": 11,
   "metadata": {},
   "outputs": [
    {
     "data": {
      "text/plain": [
       "113"
      ]
     },
     "execution_count": 11,
     "metadata": {},
     "output_type": "execute_result"
    }
   ],
   "source": [
    "scoreboard=np.zeros((100,480,3))\n",
    "cv2.putText(scoreboard, 'Your Score:'+str(1)+\" Computer Score: \"+str(3), (10, 20), fontFace=cv2.FONT_HERSHEY_SIMPLEX, fontScale=0.7,\n",
    "                color=(255, 0, 0), thickness=2)\n",
    "cv2.putText(scoreboard, 'Your Move:'+\"Rock\"+\" Computer Move: \"+\"Scissor\", (10, 50), fontFace=cv2.FONT_HERSHEY_SIMPLEX, fontScale=0.7,\n",
    "                color=(255, 0, 0), thickness=2)\n",
    "cv2.imshow(\"Score1\",scoreboard)\n",
    "cv2.waitKey(0)"
   ]
  },
  {
   "cell_type": "code",
   "execution_count": 12,
   "metadata": {},
   "outputs": [],
   "source": [
    "def get_move():\n",
    "    move=rand.randint(0,2)\n",
    "    if move==0:\n",
    "        return \"Rock\"\n",
    "    if move==1:\n",
    "        return \"Paper\"\n",
    "    if move==2:\n",
    "        return \"Scissor\""
   ]
  },
  {
   "cell_type": "code",
   "execution_count": 13,
   "metadata": {},
   "outputs": [],
   "source": [
    "def who_won(computer_move,player_move):\n",
    "    if computer_move==player_move:\n",
    "        return 3\n",
    "    elif computer_move=='Rock' and player_move=='Paper':\n",
    "        return 1\n",
    "    elif computer_move=='Rock' and player_move=='Scissor':\n",
    "        return 2\n",
    "    elif computer_move=='Paper' and player_move=='Rock':\n",
    "        return 2\n",
    "    elif computer_move=='Paper' and player_move=='Scissor':\n",
    "        return 1\n",
    "    elif computer_move=='Scissor' and player_move=='Rock':\n",
    "        return 1\n",
    "    elif computer_move=='Scissor' and player_move=='Paper':\n",
    "        return 2\n",
    "    else:\n",
    "        pass"
   ]
  },
  {
   "cell_type": "code",
   "execution_count": null,
   "metadata": {},
   "outputs": [],
   "source": []
  }
 ],
 "metadata": {
  "kernelspec": {
   "display_name": "Python 3",
   "language": "python",
   "name": "python3"
  },
  "language_info": {
   "codemirror_mode": {
    "name": "ipython",
    "version": 3
   },
   "file_extension": ".py",
   "mimetype": "text/x-python",
   "name": "python",
   "nbconvert_exporter": "python",
   "pygments_lexer": "ipython3",
   "version": "3.6.5"
  }
 },
 "nbformat": 4,
 "nbformat_minor": 2
}
